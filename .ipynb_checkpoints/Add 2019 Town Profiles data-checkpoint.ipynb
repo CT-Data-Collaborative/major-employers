{
 "cells": [
  {
   "cell_type": "markdown",
   "metadata": {},
   "source": [
    "# Town Profiles 2019\n",
    "Using the 2018 file as the base, add updated data collected in 2019"
   ]
  },
  {
   "cell_type": "code",
   "execution_count": 1,
   "metadata": {},
   "outputs": [],
   "source": [
    "import pandas as pd\n",
    "import csv"
   ]
  },
  {
   "cell_type": "code",
   "execution_count": 2,
   "metadata": {},
   "outputs": [],
   "source": [
    "base_raw = pd.read_csv('data/major_employers_2014_2017.csv', dtype={\n",
    "    'Town': str,\n",
    "    'FIPS': str,\n",
    "    'Year': int,\n",
    "    'Year Submitted': int,\n",
    "    'Town Profile Year': int,\n",
    "    'Rank': str,\n",
    "    'Variable': str,\n",
    "    'Measure Type': str,\n",
    "    'Value': str\n",
    "})\n",
    "newdata_raw = pd.read_csv('raw/major-employers-2019.csv')"
   ]
  },
  {
   "cell_type": "markdown",
   "metadata": {},
   "source": [
    "## Clean up 2019 data"
   ]
  },
  {
   "cell_type": "code",
   "execution_count": 3,
   "metadata": {},
   "outputs": [],
   "source": [
    "newdata = newdata_raw.fillna(-9999)\n",
    "\n",
    "# Clean up town names\n",
    "newdata.Town = newdata.Town.apply(str.title)\n",
    "\n",
    "# Remove duplicate towns\n",
    "newdata.drop_duplicates(['Town'], inplace=True, keep='last')"
   ]
  },
  {
   "cell_type": "markdown",
   "metadata": {},
   "source": [
    "## Copy 2018 values into 2019 and update when possible"
   ]
  },
  {
   "cell_type": "code",
   "execution_count": 4,
   "metadata": {},
   "outputs": [],
   "source": [
    "rows2019 = base_raw[base_raw['Town Profile Year'] == 2018].copy(deep=True)\n",
    "rows2019['Town Profile Year'] = 2019\n",
    "\n",
    "def update_row(r):\n",
    "    town = r.Town\n",
    "    \n",
    "    if newdata[newdata.Town == r.Town].size > 0:\n",
    "        new_value = newdata[newdata.Town == r.Town]['Employer ' + str(r.Rank)].iloc[0]\n",
    "        if new_value != -9999:\n",
    "            r['Year Submitted'] = 2019\n",
    "            r['Year'] = 2018\n",
    "            r['Value'] = new_value\n",
    "    return r\n",
    "    \n",
    "rows2019 = rows2019.apply(update_row, axis=1)"
   ]
  },
  {
   "cell_type": "markdown",
   "metadata": {},
   "source": [
    "## Combine dataframe, and done!"
   ]
  },
  {
   "cell_type": "code",
   "execution_count": 5,
   "metadata": {},
   "outputs": [],
   "source": [
    "pd.concat([\n",
    "    base_raw,\n",
    "    rows2019\n",
    "]).to_csv('data/major-employers-2019.csv', index=False, quoting=csv.QUOTE_NONNUMERIC)"
   ]
  },
  {
   "cell_type": "code",
   "execution_count": null,
   "metadata": {},
   "outputs": [],
   "source": []
  },
  {
   "cell_type": "code",
   "execution_count": null,
   "metadata": {},
   "outputs": [],
   "source": []
  },
  {
   "cell_type": "code",
   "execution_count": null,
   "metadata": {},
   "outputs": [],
   "source": []
  },
  {
   "cell_type": "code",
   "execution_count": null,
   "metadata": {},
   "outputs": [],
   "source": []
  },
  {
   "cell_type": "code",
   "execution_count": null,
   "metadata": {},
   "outputs": [],
   "source": []
  }
 ],
 "metadata": {
  "kernelspec": {
   "display_name": "Python 3",
   "language": "python",
   "name": "python3"
  },
  "language_info": {
   "codemirror_mode": {
    "name": "ipython",
    "version": 3
   },
   "file_extension": ".py",
   "mimetype": "text/x-python",
   "name": "python",
   "nbconvert_exporter": "python",
   "pygments_lexer": "ipython3",
   "version": "3.7.3"
  }
 },
 "nbformat": 4,
 "nbformat_minor": 4
}
